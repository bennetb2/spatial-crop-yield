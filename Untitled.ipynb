{
 "cells": [
  {
   "cell_type": "markdown",
   "metadata": {},
   "source": [
    "# Processing Hazelnut Yield\n",
    "\n",
    "The raw data provided contains data points with timestamps, GPS coordinates, and collection cart weight. This information was collected as a cart moves along rows of trees and harvests nuts.\n",
    "\n",
    "The goal is to create a heatmap of productivity. We measure change in weight with respect to distance traveled, and pool data from multiple harvests into a grid to display the total productivity spatially."
   ]
  },
  {
   "cell_type": "code",
   "execution_count": 162,
   "metadata": {},
   "outputs": [],
   "source": [
    "import os\n",
    "import json\n",
    "import pandas as pd\n",
    "import geopandas as gpd\n",
    "import numpy as np\n",
    "from shapely.geometry import Point,Polygon, LineString, box\n",
    "import spectra\n",
    "import re"
   ]
  },
  {
   "cell_type": "markdown",
   "metadata": {},
   "source": [
    "Our method relies on configuring the boundaries of the fields. In the [configuration file](files/config.json), the coordinates of the corners of multiple fields are specified."
   ]
  },
  {
   "cell_type": "code",
   "execution_count": 163,
   "metadata": {},
   "outputs": [],
   "source": [
    "def create_field_grids(cfg):\n",
    "    grids = {}\n",
    "    for field in cfg['field_boundaries']:\n",
    "        field_polygon = Polygon([\n",
    "                                  (field['NW_corner']['latitude'],field['NW_corner']['longitude']),\n",
    "                                  (field['NE_corner']['latitude'], field['NE_corner']['longitude']),\n",
    "                                  (field['SE_corner']['latitude'], field['SE_corner']['longitude']),\n",
    "                                  (field['SW_corner']['latitude'], field['SW_corner']['longitude'])\n",
    "                               ])\n",
    "        xmin,ymin,xmax,ymax =  field_polygon.bounds\n",
    "        length = 2e-4\n",
    "        wide = 2e-4\n",
    "\n",
    "        cols = list(np.arange(xmin, xmax, wide))\n",
    "        rows = list(np.arange(ymin, ymax, length))\n",
    "        rows.reverse()\n",
    "\n",
    "        polygons = []\n",
    "        for x in cols:\n",
    "            for y in rows:\n",
    "                polygons.append(Polygon([(x,y), (x+wide, y), (x+wide, y-length), (x, y-length)]))\n",
    "\n",
    "        grid = gpd.GeoDataFrame(geometry=polygons)\n",
    "        field_df = gpd.GeoDataFrame(geometry=gpd.GeoSeries(field_polygon))\n",
    "        grid = gpd.overlay(grid, field_df, how='intersection')\n",
    "        grids[field['name']] = grid\n",
    "        \n",
    "    return grids"
   ]
  },
  {
   "cell_type": "markdown",
   "metadata": {},
   "source": [
    "When we load the raw CSV lists, we ignore labels and null points:"
   ]
  },
  {
   "cell_type": "code",
   "execution_count": 164,
   "metadata": {},
   "outputs": [],
   "source": [
    "def load_file(filepath):\n",
    "    df = pd.read_csv(filepath, encoding = \"ISO-8859-1\")\n",
    "\n",
    "    data = []\n",
    "    for index, row in df.iterrows():\n",
    "        try:\n",
    "            point = Point(float(row['lat']), float(row['long']))\n",
    "            # If the point does not contain zeros, add to list\n",
    "            if not np.isnan(point.x) and not np.isnan(point.y):\n",
    "                data.append({'lat': row['lat'], 'long':row['long'], 'weight':row['weight']})\n",
    "        except:\n",
    "            pass\n",
    "    return data"
   ]
  },
  {
   "cell_type": "markdown",
   "metadata": {},
   "source": [
    "For each pair of consecutive data points, the intensity is calculated as the difference in weight is divided by the distance traveled. The geometry is a line from the first position to the last. Everywhere on this line is considered to have the calculated intensity.\n",
    "\n",
    "Since all CSVs have been merged into one, pairs with large distances are ignored as they represent moving to a separate harvest."
   ]
  },
  {
   "cell_type": "code",
   "execution_count": 16,
   "metadata": {},
   "outputs": [],
   "source": [
    "def quantize_yield_intensity(data):\n",
    "    intensities = []\n",
    "    geometries = []\n",
    "    if len(data) > 0:\n",
    "        for i in range(0, len(data)-1):\n",
    "            initial_point = data[i]\n",
    "            final_point = data[i+1]\n",
    "            initial_location = Point(float(initial_point['lat']), float(initial_point['long']))\n",
    "            final_location = Point(float(final_point['lat']), float(final_point['long']))\n",
    "            distance = gpd.GeoSeries(initial_location).distance(gpd.GeoSeries(final_location))[0]\n",
    "            if distance > 0.0 and distance < 1e-4:\n",
    "                try:\n",
    "                    # Removing anything that isn't a decimal point or a digit from recorded weights\n",
    "                    final_weight = float(re.sub('[^A-Za-z0-9.]+', '', final_point['weight']))\n",
    "                    initial_weight = float(re.sub('[^A-Za-z0-9.]+', '', initial_point['weight']))\n",
    "                    line = LineString([(initial_location.x, initial_location.y), (final_location.x, final_location.y)])\n",
    "                    geometries.append(line)\n",
    "                    intensity = (final_weight - initial_weight)/distance\n",
    "                    intensities.append(intensity)\n",
    "                except:\n",
    "                    pass\n",
    "    return intensities, geometries"
   ]
  },
  {
   "cell_type": "markdown",
   "metadata": {},
   "source": [
    "Using predefined functions to genereate field grids and load data:"
   ]
  },
  {
   "cell_type": "code",
   "execution_count": 168,
   "metadata": {},
   "outputs": [],
   "source": [
    "config_file = open(\"config.json\", 'r')\n",
    "cfg = json.load(config_file)\n",
    "field_grids = create_field_grids(cfg)\n",
    "data = load_file(cfg['csv_filepath'])\n",
    "config_file.close()"
   ]
  },
  {
   "cell_type": "markdown",
   "metadata": {},
   "source": [
    "Using predefined function to process data for intensities and geometries:"
   ]
  },
  {
   "cell_type": "code",
   "execution_count": 166,
   "metadata": {},
   "outputs": [],
   "source": [
    "intensities, geometries = quantize_yield_intensity(data)"
   ]
  },
  {
   "cell_type": "markdown",
   "metadata": {},
   "source": []
  },
  {
   "cell_type": "code",
   "execution_count": 169,
   "metadata": {},
   "outputs": [
    {
     "name": "stdout",
     "output_type": "stream",
     "text": [
      "field_1\n",
      "field_2\n"
     ]
    }
   ],
   "source": [
    "yield_df = pd.DataFrame(intensities, columns = ['intensity'])\n",
    "yield_df = gpd.GeoDataFrame(yield_df, geometry=geometries)\n",
    "\n",
    "for field_grid in field_grids:\n",
    "    \n",
    "# with open(\"config.json\", 'r') as json_data_file:\n",
    "#     cfg = json.load(json_data_file)\n",
    "#     field1_grid = create_field_grids(cfg)['field_1']\n",
    "#     field1_grid.to_file(f'field_1_grid.json', driver=\"GeoJSON\")"
   ]
  },
  {
   "cell_type": "code",
   "execution_count": 139,
   "metadata": {},
   "outputs": [],
   "source": [
    "with open('field_1_grid.json', 'r') as json_data_file:\n",
    "    yield_json = json.load(json_data_file)\n",
    "    for feature in yield_json['features']:\n",
    "        polygon = feature['geometry']['coordinates']\n",
    "        for corner in polygon:\n",
    "            for coordinates in corner:\n",
    "                long = coordinates[0]\n",
    "                lat = coordinates[1]\n",
    "                coordinates[0] = lat\n",
    "                coordinates[1] = long\n",
    "\n",
    "with open(f'field_1_grid_geojson.json', 'w') as outfile:\n",
    "    json.dump(yield_json, outfile)"
   ]
  },
  {
   "cell_type": "code",
   "execution_count": 145,
   "metadata": {},
   "outputs": [
    {
     "name": "stdout",
     "output_type": "stream",
     "text": [
      "603\n"
     ]
    }
   ],
   "source": [
    "cell_intensities = []\n",
    "for cell in field1_grid['geometry']:\n",
    "    cell_df = gpd.GeoDataFrame(geometry=gpd.GeoSeries(cell))\n",
    "    \n",
    "    yield_in_cell = gpd.sjoin(yield_df, cell_df, op='intersects')\n",
    "    yield_in_cell_magnitude = 0\n",
    "    if not yield_in_cell.empty:\n",
    "        for row in yield_in_cell.iterrows():\n",
    "            line = row[1]['geometry']\n",
    "            intensity = row[1]['intensity']\n",
    "            intersection = cell.exterior.intersection(line)\n",
    "            if intersection.type is 'MultiPoint':\n",
    "                initial_point, final_point = intersection\n",
    "                distance = gpd.GeoSeries(initial_point).distance(gpd.GeoSeries(final_point))[0]\n",
    "                \n",
    "            if intersection.type is \"Point\":\n",
    "                initial_point = Point(line.coords[0])\n",
    "                \n",
    "                if not initial_point.within(cell):\n",
    "                    initial_point = Point(line.coords[1])\n",
    "                    \n",
    "                distance = gpd.GeoSeries(initial_point).distance(gpd.GeoSeries(intersection))[0]\n",
    "            if intensity > 0:                            \n",
    "                yield_in_cell_magnitude += distance*intensity\n",
    "    \n",
    "    cell_intensities.append(yield_in_cell_magnitude)"
   ]
  },
  {
   "cell_type": "code",
   "execution_count": 146,
   "metadata": {},
   "outputs": [],
   "source": [
    "with open(f'in_cell.json', 'r') as json_data_file:\n",
    "    yield_json = json.load(json_data_file)\n",
    "    for feature in yield_json['features']:\n",
    "        line = feature['geometry']['coordinates']\n",
    "        for point in line:\n",
    "            long = point[0]\n",
    "            lat = point[1]\n",
    "            point[0] = lat\n",
    "            point[1] = long\n",
    "with open(f'in_cell_geojson.json', 'w') as outfile:\n",
    "    json.dump(yield_json, outfile)"
   ]
  },
  {
   "cell_type": "code",
   "execution_count": 147,
   "metadata": {},
   "outputs": [],
   "source": [
    "# Assigning colors\n",
    "color_scale = spectra.scale([ \"gray\", \"red\" ]).domain([min(cell_intensities) , max(cell_intensities)])\n",
    "intensity_colors = [] # [intensity, color]\n",
    "for cell_intensity in cell_intensities:\n",
    "    color = color_scale(cell_intensity).hexcode\n",
    "    intensity_colors.append([cell_intensity, color])\n",
    "\n",
    "cell_df = pd.DataFrame(intensity_colors, columns = ['intensity', 'fill'])\n",
    "cell_df = gpd.GeoDataFrame(cell_df, geometry=field1_grid['geometry'])"
   ]
  },
  {
   "cell_type": "code",
   "execution_count": 148,
   "metadata": {},
   "outputs": [],
   "source": [
    "cell_df.to_file(f'cell_df.json', driver=\"GeoJSON\")"
   ]
  },
  {
   "cell_type": "code",
   "execution_count": 149,
   "metadata": {},
   "outputs": [],
   "source": [
    "with open('cell_df.json', 'r') as json_data_file:\n",
    "    yield_json = json.load(json_data_file)\n",
    "    for feature in yield_json['features']:\n",
    "        polygon = feature['geometry']['coordinates']\n",
    "        for corner in polygon:\n",
    "            for coordinates in corner:\n",
    "                long = coordinates[0]\n",
    "                lat = coordinates[1]\n",
    "                coordinates[0] = lat\n",
    "                coordinates[1] = long\n",
    "\n",
    "with open(f'cell_df_geojson.json', 'w') as outfile:\n",
    "    json.dump(yield_json, outfile)"
   ]
  },
  {
   "cell_type": "code",
   "execution_count": 150,
   "metadata": {},
   "outputs": [],
   "source": [
    "field2_grid = {}\n",
    "with open(\"config.json\", 'r') as json_data_file:\n",
    "    cfg = json.load(json_data_file)\n",
    "    field2_grid = create_field_grids(cfg)['field_2']"
   ]
  },
  {
   "cell_type": "code",
   "execution_count": 151,
   "metadata": {},
   "outputs": [],
   "source": [
    "cell_intensities = []\n",
    "for cell in field2_grid['geometry']:\n",
    "    cell_df = gpd.GeoDataFrame(geometry=gpd.GeoSeries(cell))\n",
    "    \n",
    "    yield_in_cell = gpd.sjoin(yield_df, cell_df, op='intersects')\n",
    "    yield_in_cell_magnitude = 0\n",
    "    if not yield_in_cell.empty:\n",
    "        for row in yield_in_cell.iterrows():\n",
    "            line = row[1]['geometry']\n",
    "            intensity = row[1]['intensity']\n",
    "            intersection = cell.exterior.intersection(line)\n",
    "            if intersection.type is 'MultiPoint':\n",
    "                initial_point, final_point = intersection\n",
    "                distance = gpd.GeoSeries(initial_point).distance(gpd.GeoSeries(final_point))[0]\n",
    "                \n",
    "            if intersection.type is \"Point\":\n",
    "                initial_point = Point(line.coords[0])\n",
    "                \n",
    "                if not initial_point.within(cell):\n",
    "                    initial_point = Point(line.coords[1])\n",
    "                    \n",
    "                distance = gpd.GeoSeries(initial_point).distance(gpd.GeoSeries(intersection))[0]\n",
    "            if intensity > 0:                            \n",
    "                yield_in_cell_magnitude += distance*intensity\n",
    "    \n",
    "    cell_intensities.append(yield_in_cell_magnitude)"
   ]
  },
  {
   "cell_type": "code",
   "execution_count": 159,
   "metadata": {},
   "outputs": [],
   "source": [
    "# Assigning colors\n",
    "color_scale = spectra.scale([ \"gray\", \"red\" ]).domain([min(cell_intensities) , 1000])\n",
    "intensity_colors = [] # [intensity, color]\n",
    "for cell_intensity in cell_intensities:\n",
    "    if cell_intensity > 1000:\n",
    "        color = \"red\"\n",
    "    else:\n",
    "        color = color_scale(cell_intensity).hexcode\n",
    "    intensity_colors.append([cell_intensity, color])\n",
    "\n",
    "cell_df = pd.DataFrame(intensity_colors, columns = ['intensity', 'fill'])\n",
    "cell_df = gpd.GeoDataFrame(cell_df, geometry=field2_grid['geometry'])"
   ]
  },
  {
   "cell_type": "code",
   "execution_count": 160,
   "metadata": {},
   "outputs": [],
   "source": [
    "cell_df.to_file(f'cell_df2.json', driver=\"GeoJSON\")"
   ]
  },
  {
   "cell_type": "code",
   "execution_count": 161,
   "metadata": {},
   "outputs": [],
   "source": [
    "with open('cell_df2.json', 'r') as json_data_file:\n",
    "    yield_json = json.load(json_data_file)\n",
    "    for feature in yield_json['features']:\n",
    "        polygon = feature['geometry']['coordinates']\n",
    "        for corner in polygon:\n",
    "            for coordinates in corner:\n",
    "                long = coordinates[0]\n",
    "                lat = coordinates[1]\n",
    "                coordinates[0] = lat\n",
    "                coordinates[1] = long\n",
    "\n",
    "with open(f'cell_df2_geojson.json', 'w') as outfile:\n",
    "    json.dump(yield_json, outfile)"
   ]
  },
  {
   "cell_type": "code",
   "execution_count": null,
   "metadata": {},
   "outputs": [],
   "source": []
  }
 ],
 "metadata": {
  "kernelspec": {
   "display_name": "Python 3",
   "language": "python",
   "name": "python3"
  },
  "language_info": {
   "codemirror_mode": {
    "name": "ipython",
    "version": 3
   },
   "file_extension": ".py",
   "mimetype": "text/x-python",
   "name": "python",
   "nbconvert_exporter": "python",
   "pygments_lexer": "ipython3",
   "version": "3.7.3"
  }
 },
 "nbformat": 4,
 "nbformat_minor": 2
}
