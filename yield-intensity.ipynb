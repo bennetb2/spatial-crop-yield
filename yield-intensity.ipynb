{
 "cells": [
  {
   "cell_type": "markdown",
   "metadata": {},
   "source": [
    "# Processing Hazelnut Yield\n",
    "\n",
    "The raw data provided contains data points with timestamps, GPS coordinates, and collection cart weight. This information was collected as a cart moves along rows of trees and harvests nuts.\n",
    "\n",
    "The goal is to create a heatmap of productivity. We measure change in weight with respect to distance traveled, and pool data from multiple harvests to display the total productivity spatially."
   ]
  },
  {
   "cell_type": "code",
   "execution_count": 1,
   "metadata": {},
   "outputs": [],
   "source": [
    "import sys\n",
    "import re\n",
    "import os\n",
    "import json\n",
    "import pandas as pd\n",
    "import geopandas\n",
    "import numpy as np\n",
    "import matplotlib.pyplot as plt\n",
    "from shapely.geometry import Point, Polygon\n",
    "import webcolors"
   ]
  },
  {
   "cell_type": "markdown",
   "metadata": {},
   "source": [
    "Our method relies on configuring the boundaries of the fields. In the [configuration file](files/config.json), the coordinates of the corners of multiple fields are specified."
   ]
  },
  {
   "cell_type": "code",
   "execution_count": 2,
   "metadata": {},
   "outputs": [],
   "source": [
    "def create_field_polygons(cfg):\n",
    "    # Creating a GeoPandas polygon for each field in config\n",
    "    field_corners = {}\n",
    "    for field in cfg['field_boundaries']:\n",
    "        field_corners[field['name']] = Polygon(\n",
    "                            [(field['NW_corner']['latitude'],field['NW_corner']['longitude']),\n",
    "                            (field['NE_corner']['latitude'], field['NE_corner']['longitude']),\n",
    "                            (field['SE_corner']['latitude'], field['SE_corner']['longitude']),\n",
    "                            (field['SW_corner']['latitude'], field['SW_corner']['longitude'])])\n",
    "    field_polygons = geopandas.GeoSeries(field_corners)\n",
    "    return field_polygons"
   ]
  },
  {
   "cell_type": "markdown",
   "metadata": {},
   "source": [
    "When we load the raw CSV lists, we ignore null points:"
   ]
  },
  {
   "cell_type": "code",
   "execution_count": 3,
   "metadata": {},
   "outputs": [],
   "source": [
    "def load_file(cfg, filename):\n",
    "    csv_directory = cfg['csv_directory']\n",
    "    df = pd.read_csv(f'{csv_directory}/{filename}', encoding = \"ISO-8859-1\")\n",
    "\n",
    "    data = []\n",
    "    for index, row in df.iterrows():\n",
    "        try:\n",
    "            point = Point(float(row['lat']), float(row['long']))\n",
    "            # If the point does not contain zeros, add to list\n",
    "            if not np.isnan(point.x) and not np.isnan(point.y):\n",
    "                data.append({'latitude': row['lat'], 'longitude':row['long'], 'weight':row['weight']})\n",
    "        except:\n",
    "            pass\n",
    "    return data"
   ]
  },
  {
   "cell_type": "markdown",
   "metadata": {},
   "source": [
    "The quantize_yield_intensity function does the heavy lifting. It iterates over points until the configured distance interval is exceeded. It then calculates change in weight over distance (yield intensity), and applies that property to a rectangle surrounding the path traversed. This removes the necessity of a fixed grid overlayed on the field, allowing for flexibility in resolution. The preciseness is limited by either the configured distance interval, or the frequecy of data collection.\n",
    "\n",
    "The rectangles are trimmed by the field boundary, so the configured corners should be strict so travel between rows is removed.\n",
    "\n",
    "Helper functions exist to create these rectangles, and to remove noisy data. Weight shifting around the cart is identified by negative weight changes. We also remove preceeding and succeeding data points to negative weight changes, as these points have artifically high weight changes due to the nuts shifting back."
   ]
  },
  {
   "cell_type": "code",
   "execution_count": 4,
   "metadata": {},
   "outputs": [],
   "source": [
    "def quantize_yield_intensity(cfg, data, field_polygons):\n",
    "    yield_intensities = {}\n",
    "    for field in cfg['field_boundaries']:\n",
    "        field_name = field['name']\n",
    "        yield_intensities[field_name] = []\n",
    "\n",
    "        if len(data) > 0:\n",
    "            initial_point = data[0]\n",
    "            for i in range(0, len(data)):\n",
    "                initial_location = Point(float(initial_point['latitude']), float(initial_point['longitude']))\n",
    "                i_location = Point(float(data[i]['latitude']), float(data[i]['longitude']))\n",
    "                distance = geopandas.GeoSeries(initial_location).distance(geopandas.GeoSeries(i_location))[0]\n",
    "                try:\n",
    "                    # Removing anything that isn't a decimal point or a digit from recorded weights\n",
    "                    i_weight = float(re.sub('[^A-Za-z0-9.]+', '', data[i]['weight']))\n",
    "                    initial_weight = float(re.sub('[^A-Za-z0-9.]+', '', initial_point['weight']))\n",
    "\n",
    "                    yield_intensity =  {}\n",
    "                    yield_intensity['intensity'] = (i_weight - initial_weight)/distance\n",
    "                    yield_intensity['line'] = create_line(initial_location, i_location, field_name)\n",
    "                    yield_intensities[field_name].append(yield_intensity)\n",
    "                        \n",
    "                    # Reset initial point for next iteration\n",
    "                    initial_point = data[i]\n",
    "                except:\n",
    "                    pass\n",
    "                    \n",
    "\n",
    "    return yield_intensities"
   ]
  },
  {
   "cell_type": "markdown",
   "metadata": {},
   "source": [
    "This function pools the data from each harvest day. Intensities of intersecting areas are summed. Some smoothing needs to be implemented to avoid small polygons with outlier intensities."
   ]
  },
  {
   "cell_type": "code",
   "execution_count": 5,
   "metadata": {},
   "outputs": [],
   "source": []
  },
  {
   "cell_type": "markdown",
   "metadata": {},
   "source": [
    "The following block uses the defined functions sequentially. It will take roughly 10 minutes."
   ]
  },
  {
   "cell_type": "code",
   "execution_count": null,
   "metadata": {
    "scrolled": true
   },
   "outputs": [],
   "source": []
  },
  {
   "cell_type": "markdown",
   "metadata": {},
   "source": [
    "The following block exports the data for visualization on geojson.io"
   ]
  },
  {
   "cell_type": "code",
   "execution_count": null,
   "metadata": {},
   "outputs": [],
   "source": [
    "def rgb(minimum, maximum, value):\n",
    "    minimum, maximum = float(minimum), float(maximum)\n",
    "    ratio = 2 * (value-minimum) / (maximum - minimum)\n",
    "    b = int(max(0, 255*(1 - ratio)))\n",
    "    r = int(max(0, 255*(ratio - 1)))\n",
    "    g = 255 - b - r\n",
    "    return r, g, b\n",
    "\n",
    "for field in cfg['field_boundaries']:\n",
    "    field_name = field['name']\n",
    "    export_list = []\n",
    "    max_intensity = 0\n",
    "    for entry in total_yield_intensities[field_name]:\n",
    "        if entry['yield_intensity'] > max_intensity:\n",
    "            max_intensity = entry['yield_intensity']\n",
    "\n",
    "    for entry in total_yield_intensities[field_name]:\n",
    "        entry['region']['yield_intensity'] = entry['yield_intensity']\n",
    "        entry['region']['fill'] = webcolors.rgb_to_hex(rgb(0, max_intensity, entry['yield_intensity']))\n",
    "        export_list.append(geopandas.GeoDataFrame(entry['region']))\n",
    "\n",
    "    export_object = geopandas.GeoDataFrame(pd.concat(export_list, ignore_index=True))\n",
    "    export_object.to_file(f'{field_name}_intensity.json', driver=\"GeoJSON\")\n",
    "\n",
    "    # geojson.io requires coordinates in lat, long\n",
    "    with open(f'{field_name}_intensity.json', 'r') as json_data_file:\n",
    "        yield_intensities = json.load(json_data_file)\n",
    "        for feature in yield_intensities['features']:\n",
    "            polygon = feature['geometry']['coordinates']\n",
    "            for corner in polygon:\n",
    "                for coordinates in corner:\n",
    "                    long = coordinates[0]\n",
    "                    lat = coordinates[1]\n",
    "                    coordinates[0] = lat\n",
    "                    coordinates[1] = long\n",
    "\n",
    "        with open(f'{field_name}_intensity_lat_long.json', 'w') as outfile:\n",
    "            json.dump(yield_intensities, outfile)"
   ]
  }
 ],
 "metadata": {
  "kernelspec": {
   "display_name": "Python 3",
   "language": "python",
   "name": "python3"
  },
  "language_info": {
   "codemirror_mode": {
    "name": "ipython",
    "version": 3
   },
   "file_extension": ".py",
   "mimetype": "text/x-python",
   "name": "python",
   "nbconvert_exporter": "python",
   "pygments_lexer": "ipython3",
   "version": "3.7.3"
  }
 },
 "nbformat": 4,
 "nbformat_minor": 2
}
