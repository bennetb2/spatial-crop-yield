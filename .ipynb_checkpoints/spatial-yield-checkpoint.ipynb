{
 "cells": [
  {
   "cell_type": "markdown",
   "metadata": {},
   "source": [
    "# Processing Hazelnut Yield\n",
    "\n",
    "The raw data provided contains data points with timestamps, GPS coordinates, and collection cart weight. This information was collected as a cart moves along rows of trees and harvests nuts.\n",
    "\n",
    "The goal is to create a heatmap of productivity. We measure change in weight with respect to distance traveled, and pool data from multiple harvests into a grid to display the total productivity spatially."
   ]
  },
  {
   "cell_type": "code",
   "execution_count": 1,
   "metadata": {},
   "outputs": [],
   "source": [
    "import os\n",
    "import json\n",
    "import pandas as pd\n",
    "import geopandas as gpd\n",
    "import numpy as np\n",
    "from shapely.geometry import Point,Polygon, LineString\n",
    "import spectra\n",
    "import re"
   ]
  },
  {
   "cell_type": "markdown",
   "metadata": {},
   "source": [
    "Our method relies on configuring the boundaries of the fields. In the [configuration file](files/config.json), the coordinates of the corners of multiple fields are specified."
   ]
  },
  {
   "cell_type": "code",
   "execution_count": 2,
   "metadata": {},
   "outputs": [],
   "source": [
    "def create_field_grids(cfg):\n",
    "    grids = {}\n",
    "    for field in cfg['field_boundaries']:\n",
    "        field_polygon = Polygon([\n",
    "                                  (field['NW_corner']['latitude'],field['NW_corner']['longitude']),\n",
    "                                  (field['NE_corner']['latitude'], field['NE_corner']['longitude']),\n",
    "                                  (field['SE_corner']['latitude'], field['SE_corner']['longitude']),\n",
    "                                  (field['SW_corner']['latitude'], field['SW_corner']['longitude'])\n",
    "                               ])\n",
    "        xmin,ymin,xmax,ymax =  field_polygon.bounds\n",
    "        length = 2e-4\n",
    "        wide = 2e-4\n",
    "\n",
    "        cols = list(np.arange(xmin, xmax, wide))\n",
    "        rows = list(np.arange(ymin, ymax, length))\n",
    "        rows.reverse()\n",
    "\n",
    "        polygons = []\n",
    "        for x in cols:\n",
    "            for y in rows:\n",
    "                polygons.append(Polygon([(x,y), (x+wide, y), (x+wide, y-length), (x, y-length)]))\n",
    "\n",
    "        grid = gpd.GeoDataFrame(geometry=polygons)\n",
    "        field_df = gpd.GeoDataFrame(geometry=gpd.GeoSeries(field_polygon))\n",
    "        grid = gpd.overlay(grid, field_df, how='intersection')\n",
    "        grids[field['name']] = grid\n",
    "        \n",
    "    return grids"
   ]
  },
  {
   "cell_type": "markdown",
   "metadata": {},
   "source": [
    "When we load the raw CSV lists, we ignore labels and null points:"
   ]
  },
  {
   "cell_type": "code",
   "execution_count": 3,
   "metadata": {},
   "outputs": [],
   "source": [
    "def load_file(filepath):\n",
    "    df = pd.read_csv(filepath, encoding = \"ISO-8859-1\")\n",
    "\n",
    "    data = []\n",
    "    for index, row in df.iterrows():\n",
    "        try:\n",
    "            point = Point(float(row['lat']), float(row['long']))\n",
    "            # If the point does not contain zeros, add to list\n",
    "            if not np.isnan(point.x) and not np.isnan(point.y):\n",
    "                data.append({'lat': row['lat'], 'long':row['long'], 'weight':row['weight']})\n",
    "        except:\n",
    "            pass\n",
    "    return data"
   ]
  },
  {
   "cell_type": "markdown",
   "metadata": {},
   "source": [
    "For each pair of consecutive data points, the intensity is calculated as the difference in weight is divided by the distance traveled. The geometry is a line from the first position to the last. Everywhere on this line is considered to have the calculated intensity.\n",
    "\n",
    "Since all CSVs have been merged into one, pairs with large distances are ignored as they represent moving to a separate harvest."
   ]
  },
  {
   "cell_type": "code",
   "execution_count": 4,
   "metadata": {},
   "outputs": [],
   "source": [
    "def quantize_yield_intensity(data):\n",
    "    intensities = []\n",
    "    geometries = []\n",
    "    if len(data) > 0:\n",
    "        for i in range(0, len(data)-1):\n",
    "            initial_point = data[i]\n",
    "            final_point = data[i+1]\n",
    "            initial_location = Point(float(initial_point['lat']), float(initial_point['long']))\n",
    "            final_location = Point(float(final_point['lat']), float(final_point['long']))\n",
    "            distance = gpd.GeoSeries(initial_location).distance(gpd.GeoSeries(final_location))[0]\n",
    "            if distance > 0.0 and distance < 1e-4:\n",
    "                try:\n",
    "                    # Removing anything that isn't a decimal point or a digit from recorded weights\n",
    "                    final_weight = float(re.sub('[^A-Za-z0-9.]+', '', final_point['weight']))\n",
    "                    initial_weight = float(re.sub('[^A-Za-z0-9.]+', '', initial_point['weight']))\n",
    "                    line = LineString([(initial_location.x, initial_location.y), (final_location.x, final_location.y)])\n",
    "                    geometries.append(line)\n",
    "                    intensity = (final_weight - initial_weight)/distance\n",
    "                    intensities.append(intensity)\n",
    "                except:\n",
    "                    pass\n",
    "    return intensities, geometries"
   ]
  },
  {
   "cell_type": "markdown",
   "metadata": {},
   "source": [
    "Using predefined functions to genereate field grids and load data:"
   ]
  },
  {
   "cell_type": "code",
   "execution_count": 5,
   "metadata": {},
   "outputs": [],
   "source": [
    "config_file = open(\"config.json\", 'r')\n",
    "cfg = json.load(config_file)\n",
    "field_grids = create_field_grids(cfg)\n",
    "data = load_file(cfg['csv_filepath'])\n",
    "config_file.close()"
   ]
  },
  {
   "cell_type": "markdown",
   "metadata": {},
   "source": [
    "Using predefined function to process data for intensities and geometries:"
   ]
  },
  {
   "cell_type": "code",
   "execution_count": 6,
   "metadata": {},
   "outputs": [],
   "source": [
    "intensities, geometries = quantize_yield_intensity(data)"
   ]
  },
  {
   "cell_type": "markdown",
   "metadata": {},
   "source": [
    "For each field grid, the yield in each cell is summed. For every line segment in the cell, the length of the portion within the cell is found, and then scaled by the associated intensity. This produces a change in weight attributable to that cell. These changes in weights are summed to produce total yield for the cell."
   ]
  },
  {
   "cell_type": "code",
   "execution_count": 7,
   "metadata": {},
   "outputs": [],
   "source": [
    "yield_df = pd.DataFrame(intensities, columns = ['intensity'])\n",
    "yield_df = gpd.GeoDataFrame(yield_df, geometry=geometries)\n",
    "\n",
    "# recording maximum yield for calibrating color range\n",
    "max_yield = 0\n",
    "\n",
    "cell_yields = {}\n",
    "for field in field_grids:\n",
    "    cell_yields[field] = []\n",
    "    for cell in field_grids[field]['geometry']:\n",
    "        cell_df = gpd.GeoDataFrame(geometry=gpd.GeoSeries(cell))\n",
    "\n",
    "        yield_in_cell = gpd.sjoin(yield_df, cell_df, op='intersects')\n",
    "        yield_in_cell_magnitude = 0\n",
    "        if not yield_in_cell.empty:\n",
    "            for row in yield_in_cell.iterrows():\n",
    "                line = row[1]['geometry']\n",
    "                intensity = row[1]['intensity']\n",
    "                intersection = cell.exterior.intersection(line)\n",
    "                if intersection.type is 'MultiPoint':\n",
    "                    initial_point, final_point = intersection\n",
    "                    distance = gpd.GeoSeries(initial_point).distance(gpd.GeoSeries(final_point))[0]\n",
    "\n",
    "                if intersection.type is \"Point\":\n",
    "                    initial_point = Point(line.coords[0])\n",
    "\n",
    "                    if not initial_point.within(cell):\n",
    "                        initial_point = Point(line.coords[1])\n",
    "\n",
    "                    distance = gpd.GeoSeries(initial_point).distance(gpd.GeoSeries(intersection))[0]\n",
    "                \n",
    "                # filtering negative and unreasonably large intensities:\n",
    "                if intensity > 0 and intensity < 4000000:                            \n",
    "                    yield_in_cell_magnitude += distance*intensity\n",
    "\n",
    "        if yield_in_cell_magnitude > max_yield:\n",
    "            max_yield = yield_in_cell_magnitude\n",
    "        cell_yields[field].append(yield_in_cell_magnitude)"
   ]
  },
  {
   "cell_type": "markdown",
   "metadata": {},
   "source": [
    "Data frames for grids with color corresponding to cell yield is constructed:"
   ]
  },
  {
   "cell_type": "code",
   "execution_count": 8,
   "metadata": {},
   "outputs": [],
   "source": [
    "color_scale = spectra.scale([ \"LightPink\", \"Maroon\" ]).domain([0 , max_yield])\n",
    "field_dfs = {}\n",
    "\n",
    "for field in field_grids:\n",
    "    yield_colors = [] # [yield, color]\n",
    "    for cell_yield in cell_yields[field]:\n",
    "        if cell_yield == 0:\n",
    "            color = \"gray\"\n",
    "        else:\n",
    "            color = color_scale(cell_yield).hexcode\n",
    "        yield_colors.append([cell_yield, color])\n",
    "\n",
    "    field_dfs[field] = pd.DataFrame(yield_colors, columns = ['yield', 'fill'])\n",
    "    field_dfs[field] = gpd.GeoDataFrame(field_dfs[field], geometry=field_grids[field]['geometry'])"
   ]
  },
  {
   "cell_type": "markdown",
   "metadata": {},
   "source": [
    "Exporting field data frames for geojson:"
   ]
  },
  {
   "cell_type": "code",
   "execution_count": 9,
   "metadata": {},
   "outputs": [],
   "source": [
    "for field in field_dfs:\n",
    "    field_dfs[field].to_file(f'{field}.json', driver=\"GeoJSON\")\n",
    "\n",
    "    # geojson.io requires coordinates in lat, long\n",
    "    with open(f'{field}.json', 'r') as json_data_file:\n",
    "        field_json = json.load(json_data_file)\n",
    "        for feature in field_json['features']:\n",
    "            polygon = feature['geometry']['coordinates']\n",
    "            for corner in polygon:\n",
    "                for coordinates in corner:\n",
    "                    long = coordinates[0]\n",
    "                    lat = coordinates[1]\n",
    "                    coordinates[0] = lat\n",
    "                    coordinates[1] = long\n",
    "\n",
    "    with open(f'{field}_geo.json', 'w') as outfile:\n",
    "        json.dump(field_json, outfile)"
   ]
  },
  {
   "cell_type": "markdown",
   "metadata": {},
   "source": [
    "## Visualizing field data frames in geojson.io:\n",
    "[Field 1](http://geojson.io/#id=gist:wilsonia/9a1a86b680fa12a27341a517db5850cd&map=16/45.1060/-123.2836)\n",
    "\n",
    "[Field 2](http://geojson.io/#id=gist:wilsonia/44526a48e8d33b2de307ef0524625f36&map=17/45.10945/-123.28099)"
   ]
  }
 ],
 "metadata": {
  "kernelspec": {
   "display_name": "Python 3",
   "language": "python",
   "name": "python3"
  },
  "language_info": {
   "codemirror_mode": {
    "name": "ipython",
    "version": 3
   },
   "file_extension": ".py",
   "mimetype": "text/x-python",
   "name": "python",
   "nbconvert_exporter": "python",
   "pygments_lexer": "ipython3",
   "version": "3.7.3"
  }
 },
 "nbformat": 4,
 "nbformat_minor": 2
}
